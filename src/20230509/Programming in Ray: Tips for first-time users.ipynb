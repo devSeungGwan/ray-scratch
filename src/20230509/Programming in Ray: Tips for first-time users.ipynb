{
 "cells": [
  {
   "attachments": {},
   "cell_type": "markdown",
   "metadata": {},
   "source": [
    "> 해당 블로그를 참고하여 작성하였습니다.\n",
    "\n",
    "> https://rise.cs.berkeley.edu/blog/ray-tips-for-first-time-users/"
   ]
  },
  {
   "cell_type": "code",
   "execution_count": 6,
   "metadata": {},
   "outputs": [],
   "source": [
    "import time\n",
    "import random\n",
    "\n",
    "import numpy as np\n",
    "import ray"
   ]
  },
  {
   "cell_type": "code",
   "execution_count": 2,
   "metadata": {},
   "outputs": [
    {
     "name": "stdout",
     "output_type": "stream",
     "text": [
      "Elapsed time: 4.004568099975586 s\n"
     ]
    }
   ],
   "source": [
    "def do_some_work(x):\n",
    "    time.sleep(1)\n",
    "    return x\n",
    "\n",
    "start = time.time()\n",
    "results = [do_some_work(x) for x in range(4)]\n",
    "print(\"Elapsed time: {} s\".format(time.time() - start))"
   ]
  },
  {
   "cell_type": "code",
   "execution_count": 3,
   "metadata": {},
   "outputs": [
    {
     "name": "stderr",
     "output_type": "stream",
     "text": [
      "2023-05-09 05:15:34,607\tWARNING services.py:1816 -- WARNING: The object store is using /tmp instead of /dev/shm because /dev/shm has only 67108864 bytes available. This will harm performance! You may be able to free up space by deleting files in /dev/shm. If you are inside a Docker container, you can increase /dev/shm size by passing '--shm-size=0.59gb' to 'docker run' (or add it to the run_options list in a Ray cluster config). Make sure to set this to more than 30% of available RAM.\n",
      "2023-05-09 05:15:35,243\tINFO worker.py:1625 -- Started a local Ray instance.\n"
     ]
    },
    {
     "name": "stdout",
     "output_type": "stream",
     "text": [
      "Elapsed time: 2.0450427532196045 s\n"
     ]
    }
   ],
   "source": [
    "ray.init(num_cpus=2)\n",
    "\n",
    "@ray.remote\n",
    "def do_some_work(x):\n",
    "    time.sleep(1)\n",
    "    return x\n",
    "\n",
    "start = time.time()\n",
    "results = ray.get([do_some_work.remote(x) for x in range(4)])\n",
    "print(\"Elapsed time: {} s\".format(time.time() - start))"
   ]
  },
  {
   "cell_type": "code",
   "execution_count": 3,
   "metadata": {},
   "outputs": [],
   "source": [
    "ray.shutdown()"
   ]
  },
  {
   "cell_type": "code",
   "execution_count": 4,
   "metadata": {},
   "outputs": [
    {
     "name": "stderr",
     "output_type": "stream",
     "text": [
      "2023-05-09 05:20:00,560\tWARNING services.py:1816 -- WARNING: The object store is using /tmp instead of /dev/shm because /dev/shm has only 67108864 bytes available. This will harm performance! You may be able to free up space by deleting files in /dev/shm. If you are inside a Docker container, you can increase /dev/shm size by passing '--shm-size=0.69gb' to 'docker run' (or add it to the run_options list in a Ray cluster config). Make sure to set this to more than 30% of available RAM.\n",
      "2023-05-09 05:20:00,731\tINFO worker.py:1625 -- Started a local Ray instance.\n",
      "2023-05-09 05:20:23,857\tWARNING worker.py:1986 -- A worker died or was killed while executing a task by an unexpected system error. To troubleshoot the problem, check the logs for the dead worker. RayTask ID: c8d2ee93b729a86b4b1249c53902435244d9b35001000000 Worker ID: 501b8b7a76c1e9bb5ed8ee405cf17a0fa76500ead845c12864527b69 Node ID: 91398ab45fcbf7861cf4046e1a1b2ab9a0a1b171808576c2b33048fa Worker IP address: 172.16.5.4 Worker port: 44417 Worker PID: 17951 Worker exit type: SYSTEM_ERROR Worker exit detail: The leased worker has unrecoverable failure. Worker is requested to be destroyed when it is returned.\n",
      "2023-05-09 05:20:23,904\tWARNING worker.py:1986 -- A worker died or was killed while executing a task by an unexpected system error. To troubleshoot the problem, check the logs for the dead worker. RayTask ID: b2cad43d3b3434f83df16d8a02701dec74e1fdf401000000 Worker ID: 794b4446592c7b963e97da3adbb88ffa078da44c299b9f4a91edbd2f Node ID: 91398ab45fcbf7861cf4046e1a1b2ab9a0a1b171808576c2b33048fa Worker IP address: 172.16.5.4 Worker port: 38499 Worker PID: 17952 Worker exit type: SYSTEM_ERROR Worker exit detail: The leased worker has unrecoverable failure. Worker is requested to be destroyed when it is returned.\n"
     ]
    },
    {
     "ename": "",
     "evalue": "",
     "output_type": "error",
     "traceback": [
      "\u001b[1;31mCanceled future for execute_request message before replies were done"
     ]
    },
    {
     "ename": "",
     "evalue": "",
     "output_type": "error",
     "traceback": [
      "\u001b[1;31m현재 셀 또는 이전 셀에서 코드를 실행하는 동안 Kernel이 충돌했습니다. 셀의 코드를 검토하여 오류의 가능한 원인을 식별하세요. 자세한 내용을 보려면 <a href='https://aka.ms/vscodeJupyterKernelCrash'> 여기 </a> 를 클릭하세요. 자세한 내용은 Jupyter <a href='command:jupyter.viewOutput'>로그</a>를 참조하세요."
     ]
    }
   ],
   "source": [
    "ray.init(num_cpus=2)\n",
    "\n",
    "@ray.remote\n",
    "def tiny_work(x):\n",
    "    time.sleep(0.0001)\n",
    "    return x\n",
    "\n",
    "start = time.time()\n",
    "result_ids = [tiny_work.remote(x) for x in range(100000)]\n",
    "results = ray.get(result_ids)\n",
    "\n",
    "print(\"Elapsed time: {} s\".format(time.time() - start))    "
   ]
  },
  {
   "cell_type": "code",
   "execution_count": null,
   "metadata": {},
   "outputs": [],
   "source": [
    "def tiny_work(x):\n",
    "    time.sleep(0.0001)\n",
    "    return x\n",
    "\n",
    "@ray.remote\n",
    "def mega_work(start, end):\n",
    "    return [tiny_work(x) for x in range(start, end)]\n",
    "\n",
    "start = time.time()\n",
    "result_ids = [mega_work.remote(x, x + 10000) for x in range(0, 100000, 10000)]\n",
    "results = ray.get(result_ids)\n",
    "print(\"Elapsed time: {} s\".format(time.time() - start))"
   ]
  },
  {
   "cell_type": "code",
   "execution_count": 3,
   "metadata": {},
   "outputs": [
    {
     "name": "stderr",
     "output_type": "stream",
     "text": [
      "2023-05-09 05:24:52,303\tWARNING services.py:1816 -- WARNING: The object store is using /tmp instead of /dev/shm because /dev/shm has only 67108864 bytes available. This will harm performance! You may be able to free up space by deleting files in /dev/shm. If you are inside a Docker container, you can increase /dev/shm size by passing '--shm-size=0.57gb' to 'docker run' (or add it to the run_options list in a Ray cluster config). Make sure to set this to more than 30% of available RAM.\n",
      "2023-05-09 05:24:52,381\tINFO worker.py:1625 -- Started a local Ray instance.\n"
     ]
    },
    {
     "name": "stdout",
     "output_type": "stream",
     "text": [
      "per task overhead (ms) = 2.1370298862457275\n"
     ]
    }
   ],
   "source": [
    "ray.init(num_cpus=2)\n",
    "\n",
    "@ray.remote\n",
    "def no_work(x):\n",
    "    return x\n",
    "\n",
    "start = time.time()\n",
    "num_calls = 1000\n",
    "\n",
    "[ray.get(no_work.remote(0)) for x in range(num_calls)]\n",
    "print(\"per task overhead (ms) =\", (time.time() - start) * 1000/num_calls)\n"
   ]
  },
  {
   "cell_type": "code",
   "execution_count": 4,
   "metadata": {},
   "outputs": [
    {
     "name": "stderr",
     "output_type": "stream",
     "text": [
      "2023-05-09 05:26:44,108\tWARNING worker.py:1986 -- A worker died or was killed while executing a task by an unexpected system error. To troubleshoot the problem, check the logs for the dead worker. RayTask ID: 6600f5ae58c466c0970c4f0b519e614eb86c897301000000 Worker ID: e0016772d9be12b289054bb8d617801374dd3ccbe1d05aa4b93503eb Node ID: 4dea75473852cbcaab5f2e2aa405176e15660b82e908d20c7d64d7db Worker IP address: 172.16.5.4 Worker port: 46213 Worker PID: 19743 Worker exit type: SYSTEM_ERROR Worker exit detail: Worker unexpectedly exits with a connection error code 2. End of file. There are some potential root causes. (1) The process is killed by SIGKILL by OOM killer due to high memory usage. (2) ray stop --force is called. (3) The worker is crashed unexpectedly due to SIGSEGV or other unexpected errors.\n",
      "2023-05-09 05:26:55,950\tWARNING worker.py:1986 -- A worker died or was killed while executing a task by an unexpected system error. To troubleshoot the problem, check the logs for the dead worker. RayTask ID: 319b25324d0be663047aa105004bb96778e13de501000000 Worker ID: 91e361a35590c9f8787c64b7ee5e68687ca1cc30a5a2bd5f8e059fe0 Node ID: 4dea75473852cbcaab5f2e2aa405176e15660b82e908d20c7d64d7db Worker IP address: 172.16.5.4 Worker port: 32769 Worker PID: 19742 Worker exit type: SYSTEM_ERROR Worker exit detail: The leased worker has unrecoverable failure. Worker is requested to be destroyed when it is returned.\n"
     ]
    },
    {
     "name": "stdout",
     "output_type": "stream",
     "text": [
      "\u001b[2m\u001b[1m\u001b[36m(autoscaler +2m30s)\u001b[0m Tip: use `ray status` to view detailed cluster status. To disable these messages, set RAY_SCHEDULER_EVENTS=0.\n",
      "\u001b[2m\u001b[1m\u001b[33m(autoscaler +2m30s)\u001b[0m Warning: The following resource request cannot be scheduled right now: {'CPU': 1.0}. This is likely due to all cluster resources being claimed by actors. Consider creating fewer actors or adding more nodes to this Ray cluster.\n"
     ]
    },
    {
     "name": "stderr",
     "output_type": "stream",
     "text": [
      "\u001b[2m\u001b[36m(raylet)\u001b[0m Spilled 2136 MiB, 14 objects, write throughput 75 MiB/s. Set RAY_verbose_spill_logs=0 to disable this message.\n",
      "\u001b[2m\u001b[33m(raylet)\u001b[0m [2023-05-09 05:27:40,770 E 19664 19664] (raylet) worker_pool.cc:537: Some workers of the worker process(20443) have not registered within the timeout. The process is dead, probably it crashed during start.\n"
     ]
    },
    {
     "name": "stdout",
     "output_type": "stream",
     "text": [
      "Elapsed time: 94.9829933643341 s\n"
     ]
    }
   ],
   "source": [
    "@ray.remote\n",
    "def no_work_2(a):\n",
    "    return a\n",
    "\n",
    "start = time.time()\n",
    "a = np.zeros((10000, 2000))\n",
    "\n",
    "result_ids = [no_work.remote(a) for x in range(10)]\n",
    "results = ray.get(result_ids)\n",
    "print(\"Elapsed time: {} s\".format(time.time() - start))"
   ]
  },
  {
   "cell_type": "code",
   "execution_count": 7,
   "metadata": {},
   "outputs": [
    {
     "name": "stdout",
     "output_type": "stream",
     "text": [
      "duration = 9.663014650344849 \n",
      "result =  6\n"
     ]
    }
   ],
   "source": [
    "@ray.remote \n",
    "def do_some_work(x): \n",
    "    time.sleep(random.uniform(0, 4)) # Replace this with work you need to do. \n",
    "    return x \n",
    "\n",
    "def process_results(results): \n",
    "    sum = 0 \n",
    "    for x in results: \n",
    "        time.sleep(1) # Replace this with some processing code. \n",
    "        sum += x \n",
    "    return sum \n",
    "\n",
    "start = time.time() \n",
    "data_list = ray.get([do_some_work.remote(x) for x in range(4)]) \n",
    "sum = process_results(data_list) \n",
    "print(\"duration =\", time.time() - start, \"\\nresult = \", sum) "
   ]
  },
  {
   "cell_type": "code",
   "execution_count": 8,
   "metadata": {},
   "outputs": [
    {
     "name": "stdout",
     "output_type": "stream",
     "text": [
      "duration = 6.248197078704834 \n",
      "result =  6\n"
     ]
    }
   ],
   "source": [
    "@ray.remote \n",
    "def do_some_work(x): \n",
    "    time.sleep(random.uniform(0, 4)) # Replace this with work you need to do. \n",
    "    return x \n",
    "\n",
    "def process_incremental(sum, result): \n",
    "    time.sleep(1) # Replace this with some processing code. \n",
    "    return sum + result \n",
    "\n",
    "start = time.time() \n",
    "result_ids = [do_some_work.remote(x) for x in range(4)] \n",
    "sum = 0 \n",
    "while len(result_ids): \n",
    "    done_id, result_ids = ray.wait(result_ids) \n",
    "    sum = process_incremental(sum, ray.get(done_id[0])) \n",
    "print(\"duration =\", time.time() - start, \"\\nresult = \", sum) "
   ]
  },
  {
   "attachments": {
    "image.png": {
     "image/png": "[encoded data removed]"
    }
   },
   "cell_type": "markdown",
   "metadata": {},
   "source": [
    "![image.png](attachment:image.png)"
   ]
  }
 ],
 "metadata": {
  "kernelspec": {
   "display_name": "Python 3",
   "language": "python",
   "name": "python3"
  },
  "language_info": {
   "codemirror_mode": {
    "name": "ipython",
    "version": 3
   },
   "file_extension": ".py",
   "mimetype": "text/x-python",
   "name": "python",
   "nbconvert_exporter": "python",
   "pygments_lexer": "ipython3",
   "version": "3.10.10"
  },
  "orig_nbformat": 4
 },
 "nbformat": 4,
 "nbformat_minor": 2
}
