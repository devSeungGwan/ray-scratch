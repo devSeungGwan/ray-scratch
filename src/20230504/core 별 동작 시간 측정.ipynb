{
 "cells": [
  {
   "cell_type": "code",
   "execution_count": 8,
   "metadata": {},
   "outputs": [],
   "source": [
    "import time\n",
    "import os\n",
    "\n",
    "import cv2\n",
    "# codespace에서 opencv 문제 발생 시 해결 방법\n",
    "# https://somjang.tistory.com/entry/Docker-opencv-%EC%84%A4%EC%B9%98-%EC%8B%9C-ImportError-libGLso1-cannot-open-shared-object-file-No-such-file-or-directory-%ED%95%B4%EA%B2%B0-%EB%B0%A9%EB%B2%95\n",
    "\n",
    "import ray\n",
    "import numpy as np"
   ]
  },
  {
   "attachments": {},
   "cell_type": "markdown",
   "metadata": {},
   "source": [
    "### single-core 동작 시 시간"
   ]
  },
  {
   "cell_type": "code",
   "execution_count": 15,
   "metadata": {},
   "outputs": [
    {
     "name": "stdout",
     "output_type": "stream",
     "text": [
      "0.335s\n",
      "0.283s\n",
      "0.212s\n",
      "0.234s\n",
      "0.206s\n",
      "0.205s\n",
      "0.231s\n",
      "0.211s\n",
      "0.210s\n",
      "0.210s\n",
      "average ptime: 0.234s\n"
     ]
    }
   ],
   "source": [
    "num_cpus = 3\n",
    "\n",
    "filters = [np.random.normal(size=(4, 4)) for _ in range(num_cpus)]\n",
    "aver_ptime = 0\n",
    "\n",
    "for _ in range(10):\n",
    "    start = time.time()\n",
    "    image = np.zeros((3000, 3000))\n",
    "    result = []\n",
    "    \n",
    "    for i in range(num_cpus):\n",
    "        result.append(cv2.filter2D(image, -1, filters[i]))\n",
    "        \n",
    "    ptime = time.time() - start\n",
    "    aver_ptime += ptime / 10\n",
    "    \n",
    "    print(f\"{ptime:.3f}s\")\n",
    "    \n",
    "print(f\"average ptime: {aver_ptime:.3f}s\")"
   ]
  },
  {
   "attachments": {},
   "cell_type": "markdown",
   "metadata": {},
   "source": [
    "### 3-core로 동작 시 걸리는 시간\n",
    "\n",
    "* codespace 환경에서 core 수를 고려하지 않고 3-core로 동작시켰을 때 성능이 저하되는 이슈가 발생하였습니다."
   ]
  },
  {
   "cell_type": "code",
   "execution_count": 14,
   "metadata": {},
   "outputs": [
    {
     "name": "stdout",
     "output_type": "stream",
     "text": [
      "1.805s\n",
      "2.005s\n",
      "0.405s\n",
      "2.257s\n",
      "0.411s\n",
      "0.755s\n",
      "2.808s\n",
      "1.332s\n",
      "1.793s\n",
      "1.371s\n",
      "aver_ptime: 1.494s\n"
     ]
    }
   ],
   "source": [
    "num_cpus = 3\n",
    "ray.init(num_cpus=num_cpus, ignore_reinit_error=True)\n",
    "\n",
    "@ray.remote\n",
    "def f(image, kernel):\n",
    "    return cv2.filter2D(image, -1, kernel)\n",
    "\n",
    "filters = [np.random.normal(size=(4, 4)) for _ in range(num_cpus)]\n",
    "\n",
    "aver_ptime = 0\n",
    "\n",
    "for _ in range(10):\n",
    "    start = time.time()\n",
    "    image = np.zeros((3000, 3000))\n",
    "    image_id = ray.put(image)\n",
    "    \n",
    "    result = ray.get([f.remote(image_id, filters[i]) for i in range(num_cpus)])\n",
    "    \n",
    "    ptime = time.time() - start\n",
    "    aver_ptime += ptime / 10\n",
    "    \n",
    "    print(f\"{ptime:.3f}s\")\n",
    "\n",
    "print(f\"aver_ptime: {aver_ptime:.3f}s\")"
   ]
  },
  {
   "attachments": {},
   "cell_type": "markdown",
   "metadata": {},
   "source": [
    "### 6-Core\n",
    "\n",
    "* 6-core로 codespace에서 동작시키니까 worker들이 주기적으로 죽어버리는 현상을 발견하였습니다."
   ]
  },
  {
   "cell_type": "code",
   "execution_count": 18,
   "metadata": {},
   "outputs": [
    {
     "name": "stdout",
     "output_type": "stream",
     "text": [
      "19.981s\n"
     ]
    },
    {
     "name": "stderr",
     "output_type": "stream",
     "text": [
      "2023-05-04 06:03:31,509\tWARNING worker.py:1986 -- A worker died or was killed while executing a task by an unexpected system error. To troubleshoot the problem, check the logs for the dead worker. RayTask ID: 77f475bdb4638702e2952d400c3b99ca09c2afaa01000000 Worker ID: 5c9bee404acd6936a210e5693aa0172d00715f46c1f1e33b5ef013eb Node ID: 8adf337ff7866bdf5bdd5bda4bf94cd296b18083c225f209c0c9ccb8 Worker IP address: 172.16.5.4 Worker port: 45849 Worker PID: 26596 Worker exit type: SYSTEM_ERROR Worker exit detail: The leased worker has unrecoverable failure. Worker is requested to be destroyed when it is returned.\n",
      "2023-05-04 06:03:31,529\tWARNING worker.py:1986 -- WARNING: 8 PYTHON worker processes have been started on node: 8adf337ff7866bdf5bdd5bda4bf94cd296b18083c225f209c0c9ccb8 with address: 172.16.5.4. This could be a result of using a large number of actors, or due to tasks blocked in ray.get() calls (see https://github.com/ray-project/ray/issues/3644 for some discussion of workarounds).\n",
      "2023-05-04 06:03:33,262\tWARNING worker.py:1986 -- A worker died or was killed while executing a task by an unexpected system error. To troubleshoot the problem, check the logs for the dead worker. RayTask ID: 15c0ac47e082b5cb9af48ca091f9fb4186c69a3601000000 Worker ID: 776b92c102a7fef4801d224ff0d9b16e34829366e38795be834e928f Node ID: 8adf337ff7866bdf5bdd5bda4bf94cd296b18083c225f209c0c9ccb8 Worker IP address: 172.16.5.4 Worker port: 33017 Worker PID: 26595 Worker exit type: SYSTEM_ERROR Worker exit detail: The leased worker has unrecoverable failure. Worker is requested to be destroyed when it is returned.\n"
     ]
    },
    {
     "name": "stdout",
     "output_type": "stream",
     "text": [
      "24.865s\n"
     ]
    },
    {
     "name": "stderr",
     "output_type": "stream",
     "text": [
      "2023-05-04 06:03:58,416\tWARNING worker.py:1986 -- A worker died or was killed while executing a task by an unexpected system error. To troubleshoot the problem, check the logs for the dead worker. RayTask ID: d536273453f723b84d54fec405b6c7bf3d753df101000000 Worker ID: 06522b03d804b944053de86f1d3a6213507291eaf8d455a82279c82d Node ID: 8adf337ff7866bdf5bdd5bda4bf94cd296b18083c225f209c0c9ccb8 Worker IP address: 172.16.5.4 Worker port: 38331 Worker PID: 29611 Worker exit type: SYSTEM_ERROR Worker exit detail: Worker unexpectedly exits with a connection error code 2. End of file. There are some potential root causes. (1) The process is killed by SIGKILL by OOM killer due to high memory usage. (2) ray stop --force is called. (3) The worker is crashed unexpectedly due to SIGSEGV or other unexpected errors.\n"
     ]
    },
    {
     "name": "stdout",
     "output_type": "stream",
     "text": [
      "30.027s\n"
     ]
    },
    {
     "ename": "KeyboardInterrupt",
     "evalue": "",
     "output_type": "error",
     "traceback": [
      "\u001b[0;31m---------------------------------------------------------------------------\u001b[0m",
      "\u001b[0;31mKeyboardInterrupt\u001b[0m                         Traceback (most recent call last)",
      "Cell \u001b[0;32mIn[18], line 14\u001b[0m\n\u001b[1;32m     11\u001b[0m image \u001b[39m=\u001b[39m np\u001b[39m.\u001b[39mzeros((\u001b[39m3000\u001b[39m, \u001b[39m3000\u001b[39m))\n\u001b[1;32m     12\u001b[0m image_id \u001b[39m=\u001b[39m ray\u001b[39m.\u001b[39mput(image)\n\u001b[0;32m---> 14\u001b[0m result \u001b[39m=\u001b[39m ray\u001b[39m.\u001b[39;49mget([f\u001b[39m.\u001b[39;49mremote(image_id, filters[i]) \u001b[39mfor\u001b[39;49;00m i \u001b[39min\u001b[39;49;00m \u001b[39mrange\u001b[39;49m(num_cpus)])\n\u001b[1;32m     16\u001b[0m ptime \u001b[39m=\u001b[39m time\u001b[39m.\u001b[39mtime() \u001b[39m-\u001b[39m start\n\u001b[1;32m     17\u001b[0m aver_ptime \u001b[39m+\u001b[39m\u001b[39m=\u001b[39m ptime \u001b[39m/\u001b[39m \u001b[39m10\u001b[39m\n",
      "File \u001b[0;32m/workspaces/study-for-ray/.conda/lib/python3.10/site-packages/ray/_private/client_mode_hook.py:105\u001b[0m, in \u001b[0;36mclient_mode_hook.<locals>.wrapper\u001b[0;34m(*args, **kwargs)\u001b[0m\n\u001b[1;32m    103\u001b[0m     \u001b[39mif\u001b[39;00m func\u001b[39m.\u001b[39m\u001b[39m__name__\u001b[39m \u001b[39m!=\u001b[39m \u001b[39m\"\u001b[39m\u001b[39minit\u001b[39m\u001b[39m\"\u001b[39m \u001b[39mor\u001b[39;00m is_client_mode_enabled_by_default:\n\u001b[1;32m    104\u001b[0m         \u001b[39mreturn\u001b[39;00m \u001b[39mgetattr\u001b[39m(ray, func\u001b[39m.\u001b[39m\u001b[39m__name__\u001b[39m)(\u001b[39m*\u001b[39margs, \u001b[39m*\u001b[39m\u001b[39m*\u001b[39mkwargs)\n\u001b[0;32m--> 105\u001b[0m \u001b[39mreturn\u001b[39;00m func(\u001b[39m*\u001b[39;49margs, \u001b[39m*\u001b[39;49m\u001b[39m*\u001b[39;49mkwargs)\n",
      "File \u001b[0;32m/workspaces/study-for-ray/.conda/lib/python3.10/site-packages/ray/_private/worker.py:2515\u001b[0m, in \u001b[0;36mget\u001b[0;34m(object_refs, timeout)\u001b[0m\n\u001b[1;32m   2510\u001b[0m     \u001b[39mraise\u001b[39;00m \u001b[39mValueError\u001b[39;00m(\n\u001b[1;32m   2511\u001b[0m         \u001b[39m\"\u001b[39m\u001b[39m'\u001b[39m\u001b[39mobject_refs\u001b[39m\u001b[39m'\u001b[39m\u001b[39m must either be an ObjectRef or a list of ObjectRefs.\u001b[39m\u001b[39m\"\u001b[39m\n\u001b[1;32m   2512\u001b[0m     )\n\u001b[1;32m   2514\u001b[0m \u001b[39m# TODO(ujvl): Consider how to allow user to retrieve the ready objects.\u001b[39;00m\n\u001b[0;32m-> 2515\u001b[0m values, debugger_breakpoint \u001b[39m=\u001b[39m worker\u001b[39m.\u001b[39;49mget_objects(object_refs, timeout\u001b[39m=\u001b[39;49mtimeout)\n\u001b[1;32m   2516\u001b[0m \u001b[39mfor\u001b[39;00m i, value \u001b[39min\u001b[39;00m \u001b[39menumerate\u001b[39m(values):\n\u001b[1;32m   2517\u001b[0m     \u001b[39mif\u001b[39;00m \u001b[39misinstance\u001b[39m(value, RayError):\n",
      "File \u001b[0;32m/workspaces/study-for-ray/.conda/lib/python3.10/site-packages/ray/_private/worker.py:742\u001b[0m, in \u001b[0;36mWorker.get_objects\u001b[0;34m(self, object_refs, timeout)\u001b[0m\n\u001b[1;32m    736\u001b[0m         \u001b[39mraise\u001b[39;00m \u001b[39mTypeError\u001b[39;00m(\n\u001b[1;32m    737\u001b[0m             \u001b[39mf\u001b[39m\u001b[39m\"\u001b[39m\u001b[39mAttempting to call `get` on the value \u001b[39m\u001b[39m{\u001b[39;00mobject_ref\u001b[39m}\u001b[39;00m\u001b[39m, \u001b[39m\u001b[39m\"\u001b[39m\n\u001b[1;32m    738\u001b[0m             \u001b[39m\"\u001b[39m\u001b[39mwhich is not an ray.ObjectRef.\u001b[39m\u001b[39m\"\u001b[39m\n\u001b[1;32m    739\u001b[0m         )\n\u001b[1;32m    741\u001b[0m timeout_ms \u001b[39m=\u001b[39m \u001b[39mint\u001b[39m(timeout \u001b[39m*\u001b[39m \u001b[39m1000\u001b[39m) \u001b[39mif\u001b[39;00m timeout \u001b[39melse\u001b[39;00m \u001b[39m-\u001b[39m\u001b[39m1\u001b[39m\n\u001b[0;32m--> 742\u001b[0m data_metadata_pairs \u001b[39m=\u001b[39m \u001b[39mself\u001b[39;49m\u001b[39m.\u001b[39;49mcore_worker\u001b[39m.\u001b[39;49mget_objects(\n\u001b[1;32m    743\u001b[0m     object_refs, \u001b[39mself\u001b[39;49m\u001b[39m.\u001b[39;49mcurrent_task_id, timeout_ms\n\u001b[1;32m    744\u001b[0m )\n\u001b[1;32m    745\u001b[0m debugger_breakpoint \u001b[39m=\u001b[39m \u001b[39mb\u001b[39m\u001b[39m\"\u001b[39m\u001b[39m\"\u001b[39m\n\u001b[1;32m    746\u001b[0m \u001b[39mfor\u001b[39;00m (data, metadata) \u001b[39min\u001b[39;00m data_metadata_pairs:\n",
      "File \u001b[0;32mpython/ray/_raylet.pyx:1664\u001b[0m, in \u001b[0;36mray._raylet.CoreWorker.get_objects\u001b[0;34m()\u001b[0m\n",
      "File \u001b[0;32mpython/ray/_raylet.pyx:201\u001b[0m, in \u001b[0;36mray._raylet.check_status\u001b[0;34m()\u001b[0m\n",
      "\u001b[0;31mKeyboardInterrupt\u001b[0m: "
     ]
    },
    {
     "name": "stderr",
     "output_type": "stream",
     "text": [
      "2023-05-04 06:04:29,844\tWARNING worker.py:1986 -- A worker died or was killed while executing a task by an unexpected system error. To troubleshoot the problem, check the logs for the dead worker. RayTask ID: 411c0ff2d0ad9535c3648cf097b08bc1e145363601000000 Worker ID: cbe261dcb6805875bb651c52d6a84fdafee7befe05171b8292cb423b Node ID: 8adf337ff7866bdf5bdd5bda4bf94cd296b18083c225f209c0c9ccb8 Worker IP address: 172.16.5.4 Worker port: 40215 Worker PID: 29819 Worker exit type: SYSTEM_ERROR Worker exit detail: Worker unexpectedly exits with a connection error code 2. End of file. There are some potential root causes. (1) The process is killed by SIGKILL by OOM killer due to high memory usage. (2) ray stop --force is called. (3) The worker is crashed unexpectedly due to SIGSEGV or other unexpected errors.\n"
     ]
    }
   ],
   "source": [
    "num_cpus = 6\n",
    "ray.init(num_cpus=num_cpus, ignore_reinit_error=True)\n",
    "\n",
    "@ray.remote\n",
    "def f(image, kernel):\n",
    "    return cv2.filter2D(image, -1, kernel)\n",
    "\n",
    "filters = [np.random.normal(size=(4, 4)) for _ in range(num_cpus)]\n",
    "\n",
    "aver_ptime = 0\n",
    "\n",
    "for _ in range(10):\n",
    "    start = time.time()\n",
    "    image = np.zeros((3000, 3000))\n",
    "    image_id = ray.put(image)\n",
    "    \n",
    "    result = ray.get([f.remote(image_id, filters[i]) for i in range(num_cpus)])\n",
    "    \n",
    "    ptime = time.time() - start\n",
    "    aver_ptime += ptime / 10\n",
    "    \n",
    "    print(f\"{ptime:.3f}s\")\n",
    "\n",
    "print(f\"aver_ptime: {aver_ptime:.3f}s\")"
   ]
  },
  {
   "attachments": {},
   "cell_type": "markdown",
   "metadata": {},
   "source": [
    "### Result\n",
    "\n",
    "* 병렬처리 환경에서 CPU 코어수 및 싱글코어 당 런타임 시 점유하는 CPU 사용률을 고려하여 Ray의 CPU 개수를 조정해야 합니다."
   ]
  }
 ],
 "metadata": {
  "kernelspec": {
   "display_name": "Python 3",
   "language": "python",
   "name": "python3"
  },
  "language_info": {
   "codemirror_mode": {
    "name": "ipython",
    "version": 3
   },
   "file_extension": ".py",
   "mimetype": "text/x-python",
   "name": "python",
   "nbconvert_exporter": "python",
   "pygments_lexer": "ipython3",
   "version": "3.10.10"
  },
  "orig_nbformat": 4
 },
 "nbformat": 4,
 "nbformat_minor": 2
}
