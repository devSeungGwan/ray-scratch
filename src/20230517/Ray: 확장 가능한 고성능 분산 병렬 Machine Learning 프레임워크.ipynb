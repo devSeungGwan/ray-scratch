{
 "cells": [
  {
   "attachments": {},
   "cell_type": "markdown",
   "metadata": {},
   "source": [
    "> 해당 블로그를 참고하여 작성하였습니다.\n",
    "\n",
    "> https://medium.com/riiid-teamblog-kr/ray-%ED%99%95%EC%9E%A5-%EA%B0%80%EB%8A%A5%ED%95%9C-%EA%B3%A0%EC%84%B1%EB%8A%A5-%EB%B6%84%EC%82%B0-%EB%B3%91%EB%A0%AC-machine-learning-%ED%94%84%EB%A0%88%EC%9E%84%EC%9B%8C%ED%81%AC-f17f9c9cbef3"
   ]
  },
  {
   "cell_type": "code",
   "execution_count": 2,
   "metadata": {},
   "outputs": [],
   "source": [
    "import ray\n",
    "import multiprocessing"
   ]
  },
  {
   "cell_type": "code",
   "execution_count": 3,
   "metadata": {},
   "outputs": [],
   "source": [
    "data = [5, 7, 12, 3, 7, 126, 2]"
   ]
  },
  {
   "cell_type": "code",
   "execution_count": null,
   "metadata": {},
   "outputs": [],
   "source": [
    "# serial python\n",
    "def mul(x):\n",
    "    return x * 10\n",
    "\n",
    "# multiprocessing\n",
    "NUM_CPUS = 2\n",
    "\n",
    "def mul(x):\n",
    "    return x * 10\n",
    "\n",
    "with multiprocessing.Pool(NUM_CPUS) as p:\n",
    "    result = p.map(mul, data)\n",
    "    \n",
    "# ray\n",
    "ray.init(num_cpus=2)\n",
    "\n",
    "@ray.remote\n",
    "def mul(x):\n",
    "    return x * 10\n",
    "\n",
    "result = ray.get([mul.remote(x) for x in data])"
   ]
  },
  {
   "cell_type": "code",
   "execution_count": 6,
   "metadata": {},
   "outputs": [
    {
     "name": "stderr",
     "output_type": "stream",
     "text": [
      "2023-05-17 11:21:30,677\tWARNING services.py:1816 -- WARNING: The object store is using /tmp instead of /dev/shm because /dev/shm has only 67108864 bytes available. This will harm performance! You may be able to free up space by deleting files in /dev/shm. If you are inside a Docker container, you can increase /dev/shm size by passing '--shm-size=0.91gb' to 'docker run' (or add it to the run_options list in a Ray cluster config). Make sure to set this to more than 30% of available RAM.\n",
      "2023-05-17 11:21:31,817\tINFO worker.py:1625 -- Started a local Ray instance.\n"
     ]
    }
   ],
   "source": [
    "instance = ray.init()\n",
    "\n",
    "# Stateless Single Function (for Stateless Task)\n",
    "@ray.remote\n",
    "def single_func():\n",
    "    return \"hello ray\"\n",
    "\n",
    "# Stateful Actor (for Stateful Task)\n",
    "@ray.remote\n",
    "class Actor(object):\n",
    "    def __init__(self):\n",
    "        self.value = 0\n",
    "        \n",
    "    def increment(self):\n",
    "        self.value += 1\n",
    "        \n",
    "    def decrement(self):\n",
    "        self.value -= 1"
   ]
  },
  {
   "cell_type": "code",
   "execution_count": 9,
   "metadata": {},
   "outputs": [
    {
     "name": "stdout",
     "output_type": "stream",
     "text": [
      "ObjectRef(c8ef45ccd0112571ffffffffffffffffffffffff0100000001000000)\n"
     ]
    }
   ],
   "source": [
    "obj_ref = single_func.remote()\n",
    "print(obj_ref)"
   ]
  },
  {
   "cell_type": "code",
   "execution_count": 10,
   "metadata": {},
   "outputs": [
    {
     "name": "stdout",
     "output_type": "stream",
     "text": [
      "hello ray\n"
     ]
    }
   ],
   "source": [
    "obj = ray.get(obj_ref)\n",
    "print(obj)"
   ]
  },
  {
   "cell_type": "code",
   "execution_count": null,
   "metadata": {},
   "outputs": [],
   "source": [
    "result = ray.get([single_func.remote() for _ in range(100)])"
   ]
  }
 ],
 "metadata": {
  "kernelspec": {
   "display_name": "study-for-ray-Nr3ju34j-py3.10",
   "language": "python",
   "name": "python3"
  },
  "language_info": {
   "codemirror_mode": {
    "name": "ipython",
    "version": 3
   },
   "file_extension": ".py",
   "mimetype": "text/x-python",
   "name": "python",
   "nbconvert_exporter": "python",
   "pygments_lexer": "ipython3",
   "version": "3.10.4"
  },
  "orig_nbformat": 4
 },
 "nbformat": 4,
 "nbformat_minor": 2
}
